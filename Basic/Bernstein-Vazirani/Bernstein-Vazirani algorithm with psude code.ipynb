{
 "cells": [
  {
   "cell_type": "markdown",
   "id": "virgin-cookbook",
   "metadata": {},
   "source": [
    "Bernstein Vazirani Algorithm:- Using this circuit, we can find krack the passward"
   ]
  },
  {
   "cell_type": "markdown",
   "id": "square-bacon",
   "metadata": {},
   "source": [
    "psudo-code:- \n",
    "\n",
    "    \n",
    "1) Make a circuit of quantum bit and classical bit.\n",
    "   \n",
    "a) number of quantum bit   = length of secret key + 1 .\n",
    "\n",
    "b) number of classical bit = length of secret key.\n",
    "\n",
    "\n",
    "2) Add H-gate to all qantum bit except last quantum bit.\n",
    "\n",
    "\n",
    "3) Add first x-gate and then H-gate to last quantum bit.\n",
    "\n",
    "\n",
    "4) Reverse the secret key and  Add cx-gate to that quantum bit whose numbering is same as index of digit 1 of secret key.\n",
    "\n",
    "a) Control bit will be those quantum bit whosenumbering s same as index of digit 1 in secret key.\n",
    "\n",
    "b) Target bit will be last quantum bit.\n",
    "\n",
    "\n",
    "5) Measure all quantum bit to all classical bit."
   ]
  },
  {
   "cell_type": "code",
   "execution_count": 3,
   "id": "failing-sweden",
   "metadata": {},
   "outputs": [
    {
     "name": "stdout",
     "output_type": "stream",
     "text": [
      "0.18.2\n"
     ]
    }
   ],
   "source": [
    "import qiskit\n",
    "from qiskit import *\n",
    "print(qiskit.__version__)\n",
    "%matplotlib inline\n",
    "from qiskit.tools.visualization import plot_histogram"
   ]
  },
  {
   "cell_type": "code",
   "execution_count": 4,
   "id": "hollow-yahoo",
   "metadata": {},
   "outputs": [
    {
     "name": "stdout",
     "output_type": "stream",
     "text": [
      "enter number: 1010\n",
      "required number:  {'1010': 1}\n"
     ]
    },
    {
     "data": {
      "image/png": "[encoded data removed]",
      "text/plain": [
       "<Figure size 869.197x385.28 with 1 Axes>"
      ]
     },
     "execution_count": 4,
     "metadata": {},
     "output_type": "execute_result"
    }
   ],
   "source": [
    "def find_secret_number(secter_number):\n",
    "    # Using Bernstein Vazirani Algorithm\n",
    "    \n",
    "    secret_number = str(secter_number)\n",
    "    circuit = QuantumCircuit(len(secret_number)+1, len(secret_number))\n",
    "\n",
    "    circuit.h(range(len(secret_number)))\n",
    "    circuit.x(len(secret_number))\n",
    "    circuit.h(len(secret_number))\n",
    "    circuit.barrier()\n",
    "\n",
    "    for position,value in enumerate(reversed(secret_number)):\n",
    "        if value == '1':\n",
    "            circuit.cx(position, len(secret_number))\n",
    "\n",
    "    circuit.barrier()\n",
    "    circuit.h(range(len(secret_number)))\n",
    "    circuit.barrier()\n",
    "\n",
    "    circuit.measure(range(len(secret_number)), range(len(secret_number)))\n",
    "    circuit.barrier()\n",
    "\n",
    "#     circuit.draw(output='mpl')\n",
    "    \n",
    "    simulator = Aer.get_backend('qasm_simulator')\n",
    "    job = execute(circuit, backend=simulator, shots=1)\n",
    "    result = job.result()\n",
    "    counts = result.get_counts()\n",
    "#     print(counts)\n",
    "    return circuit, counts\n",
    "\n",
    "secret_number = int(input(\"enter number: \"))\n",
    "circuit, number = find_secret_number(secret_number)\n",
    "print('required number: ', number)\n",
    "circuit.draw(output='mpl')"
   ]
  },
  {
   "cell_type": "code",
   "execution_count": null,
   "id": "collective-audio",
   "metadata": {},
   "outputs": [],
   "source": []
  }
 ],
 "metadata": {
  "kernelspec": {
   "display_name": "Python 3",
   "language": "python",
   "name": "python3"
  },
  "language_info": {
   "codemirror_mode": {
    "name": "ipython",
    "version": 3
   },
   "file_extension": ".py",
   "mimetype": "text/x-python",
   "name": "python",
   "nbconvert_exporter": "python",
   "pygments_lexer": "ipython3",
   "version": "3.8.8"
  }
 },
 "nbformat": 4,
 "nbformat_minor": 5
}
