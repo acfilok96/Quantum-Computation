{
 "cells": [
  {
   "cell_type": "code",
   "execution_count": 121,
   "id": "ready-carry",
   "metadata": {
    "scrolled": true
   },
   "outputs": [
    {
     "name": "stdout",
     "output_type": "stream",
     "text": [
      "0.18.2\n"
     ]
    }
   ],
   "source": [
    "import qiskit\n",
    "print(qiskit.__version__)"
   ]
  },
  {
   "cell_type": "markdown",
   "id": "structural-proportion",
   "metadata": {},
   "source": [
    "# 1.1 Load Data"
   ]
  },
  {
   "cell_type": "code",
   "execution_count": 140,
   "id": "younger-hotel",
   "metadata": {},
   "outputs": [],
   "source": [
    "from qiskit_machine_learning.datasets import ad_hoc_data\n",
    "\n",
    "adhoc_dimension = 2\n",
    "\n",
    "train_features, train_labels, test_features, test_labels, adhoc_total = ad_hoc_data(training_size = 20, test_size = 5, \n",
    "                                                                                    n = adhoc_dimension, gap=0.3,\n",
    "                                                                                    plot_data =False, one_hot=False,\n",
    "                                                                                    include_sample_total=True)"
   ]
  },
  {
   "cell_type": "code",
   "execution_count": 141,
   "id": "fantastic-addiction",
   "metadata": {},
   "outputs": [
    {
     "name": "stdout",
     "output_type": "stream",
     "text": [
      "(100, 100)\n"
     ]
    }
   ],
   "source": [
    "import numpy\n",
    "print(numpy.array(adhoc_total).shape)"
   ]
  },
  {
   "cell_type": "code",
   "execution_count": 142,
   "id": "viral-canal",
   "metadata": {},
   "outputs": [
    {
     "name": "stdout",
     "output_type": "stream",
     "text": [
      "train data shape:  (40, 2) \ttrain labels shape:  (40,)\n",
      "test data shape:   (10, 2) \ttest labels shape:   (10,)\n"
     ]
    }
   ],
   "source": [
    "print(\"train data shape: \", train_features.shape,\"\\ttrain labels shape: \", train_labels.shape)\n",
    "print(\"test data shape:  \", test_features.shape,\"\\ttest labels shape:  \", test_labels.shape)"
   ]
  },
  {
   "cell_type": "code",
   "execution_count": 143,
   "id": "auburn-perspective",
   "metadata": {},
   "outputs": [
    {
     "name": "stdout",
     "output_type": "stream",
     "text": [
      "train data:\n",
      " [[1.50796447 4.52389342]\n",
      " [3.39292007 4.27256601]\n",
      " [3.0787608  4.64955713]\n",
      " [2.82743339 4.83805269]\n",
      " [1.38230077 0.37699112]]\n",
      "\n",
      "train label:\n",
      " [0 0 0 0 0]\n"
     ]
    }
   ],
   "source": [
    "print('train data:\\n',train_features[:5])\n",
    "print('\\ntrain label:\\n',train_labels[:5])"
   ]
  },
  {
   "cell_type": "code",
   "execution_count": 144,
   "id": "descending-clinton",
   "metadata": {},
   "outputs": [],
   "source": [
    "# plot_adhoc_dataset(train_features, train_labels, test_features, test_labels, adhoc_total)"
   ]
  },
  {
   "cell_type": "markdown",
   "id": "sexual-martial",
   "metadata": {},
   "source": [
    "# 1.2 Simulator"
   ]
  },
  {
   "cell_type": "code",
   "execution_count": 145,
   "id": "union-covering",
   "metadata": {},
   "outputs": [],
   "source": [
    "from qiskit import Aer\n",
    "from qiskit.utils import QuantumInstance\n",
    "\n",
    "seed=20\n",
    "quantum_instance = QuantumInstance(Aer.get_backend(\"qasm_simulator\"), shots=1024,\n",
    "                                   seed_simulator=seed, seed_transpiler=seed)"
   ]
  },
  {
   "cell_type": "markdown",
   "id": "fabulous-feature",
   "metadata": {},
   "source": [
    "# 1.3 SVM"
   ]
  },
  {
   "cell_type": "markdown",
   "id": "distinct-garlic",
   "metadata": {},
   "source": [
    "# 1.1.1 Kernel set up for ZFeatureMap"
   ]
  },
  {
   "cell_type": "code",
   "execution_count": 146,
   "id": "pacific-necessity",
   "metadata": {},
   "outputs": [
    {
     "data": {
      "image/png": "[encoded data removed]",
      "text/plain": [
       "<Figure size 654.504x288.96 with 1 Axes>"
      ]
     },
     "execution_count": 146,
     "metadata": {},
     "output_type": "execute_result"
    }
   ],
   "source": [
    "from qiskit.circuit.library import ZFeatureMap\n",
    "from qiskit_machine_learning.kernels import QuantumKernel\n",
    "\n",
    "z_feature_map = ZFeatureMap(feature_dimension=adhoc_dimension, reps=2)\n",
    "z_kernel = QuantumKernel(feature_map = z_feature_map, quantum_instance=quantum_instance)\n",
    "\n",
    "# z_feature_map.draw(output='mpl', scale=2)\n",
    "z_feature_map.decompose().draw(output='mpl', scale=2)"
   ]
  },
  {
   "cell_type": "markdown",
   "id": "fresh-criticism",
   "metadata": {},
   "source": [
    "# 1.1.2 SVM set up"
   ]
  },
  {
   "cell_type": "code",
   "execution_count": 147,
   "id": "heard-siemens",
   "metadata": {},
   "outputs": [
    {
     "name": "stdout",
     "output_type": "stream",
     "text": [
      "Callable kernel with ZFeatureMap classification test score:  0.6\n",
      "[0 1 1 1 0 1 1 1 0 1]\n"
     ]
    }
   ],
   "source": [
    "from sklearn.svm import SVC\n",
    "\n",
    "svc = SVC(kernel=z_kernel.evaluate)\n",
    "svc.fit(train_features, train_labels)\n",
    "score = svc.score(test_features, test_labels)\n",
    "print('Callable kernel with ZFeatureMap classification test score: ', score)\n",
    "prediction = svc.predict(test_features)\n",
    "print(prediction)"
   ]
  },
  {
   "cell_type": "markdown",
   "id": "afraid-reggae",
   "metadata": {},
   "source": [
    "# 1.2.1 Kernel set up for ZZFeatureMap"
   ]
  },
  {
   "cell_type": "code",
   "execution_count": 148,
   "id": "democratic-officer",
   "metadata": {},
   "outputs": [
    {
     "data": {
      "image/png": "[encoded data removed]",
      "text/plain": [
       "<Figure size 1858.5x288.96 with 1 Axes>"
      ]
     },
     "execution_count": 148,
     "metadata": {},
     "output_type": "execute_result"
    }
   ],
   "source": [
    "from qiskit.circuit.library import ZZFeatureMap\n",
    "\n",
    "zz_feature_map = ZZFeatureMap(feature_dimension=adhoc_dimension, reps=2, entanglement='linear')\n",
    "zz_kernel = QuantumKernel(feature_map = zz_feature_map, quantum_instance=quantum_instance)\n",
    "\n",
    "zz_feature_map.decompose().draw(output='mpl', scale=2)"
   ]
  },
  {
   "cell_type": "markdown",
   "id": "endangered-sentence",
   "metadata": {},
   "source": [
    "# 1.2.2 SVM set up"
   ]
  },
  {
   "cell_type": "code",
   "execution_count": 149,
   "id": "ancient-potter",
   "metadata": {},
   "outputs": [
    {
     "name": "stdout",
     "output_type": "stream",
     "text": [
      "Callable kernel with ZZFeatureMap classification test score:  1.0\n",
      "[0 0 0 0 0 1 1 1 1 1]\n"
     ]
    }
   ],
   "source": [
    "from sklearn.svm import SVC\n",
    "\n",
    "svc = SVC(kernel=zz_kernel.evaluate)\n",
    "svc.fit(train_features, train_labels)\n",
    "score = svc.score(test_features, test_labels)\n",
    "print('Callable kernel with ZZFeatureMap classification test score: ', score)\n",
    "prediction = svc.predict(test_features)\n",
    "print(prediction)"
   ]
  },
  {
   "cell_type": "markdown",
   "id": "checked-princess",
   "metadata": {},
   "source": [
    "# 1.4 Quatum SVM"
   ]
  },
  {
   "cell_type": "code",
   "execution_count": null,
   "id": "involved-senator",
   "metadata": {},
   "outputs": [
    {
     "name": "stdout",
     "output_type": "stream",
     "text": [
      "QSVC classification test score:  1.0\n"
     ]
    }
   ],
   "source": [
    "from qiskit_machine_learning.algorithms import QSVC\n",
    "\n",
    "qsvc = QSVC()\n",
    "qsvc.quantum_kernel.quantum_instance = quantum_instance\n",
    "\n",
    "qsvc.fit(train_features, train_labels)\n",
    "score = qsvc.score(test_features, test_labels)\n",
    "print('QSVC classification test score: ', score)\n",
    "prediction = qsvc.predict(test_features)\n",
    "print(prediction)"
   ]
  },
  {
   "cell_type": "markdown",
   "id": "leading-headline",
   "metadata": {},
   "source": [
    "# Tutorial"
   ]
  },
  {
   "cell_type": "markdown",
   "id": "polish-origin",
   "metadata": {},
   "source": [
    "For \"ZFeatureMap\": \n",
    "\n",
    "if  \"feature_dimension\" = n,     it will give n-qubit i.e. n- horizontal line(in figure).\n",
    "\n",
    "if  \"reps\" = n, means it will repeat the circuit n times."
   ]
  },
  {
   "cell_type": "code",
   "execution_count": null,
   "id": "recreational-birthday",
   "metadata": {},
   "outputs": [],
   "source": [
    "from qiskit.circuit.library import ZFeatureMap\n",
    "from qiskit_machine_learning.kernels import QuantumKernel\n",
    "\n",
    "# here feature_dimension = 2 and reps = 1\n",
    "\n",
    "adhoc_dimension = 2\n",
    "z_feature_map = ZFeatureMap(feature_dimension=adhoc_dimension, reps=1)\n",
    "z_kernel = QuantumKernel(feature_map = z_feature_map, quantum_instance=quantum_instance)\n",
    "\n",
    "z_feature_map.decompose().draw(output='mpl', scale=2)"
   ]
  },
  {
   "cell_type": "code",
   "execution_count": null,
   "id": "antique-washington",
   "metadata": {},
   "outputs": [],
   "source": [
    "from qiskit.circuit.library import ZFeatureMap\n",
    "from qiskit_machine_learning.kernels import QuantumKernel\n",
    "\n",
    "# here feature_dimension = 2 and reps = 2\n",
    "\n",
    "adhoc_dimension = 2\n",
    "z_feature_map = ZFeatureMap(feature_dimension=adhoc_dimension, reps=2)\n",
    "z_kernel = QuantumKernel(feature_map = z_feature_map, quantum_instance=quantum_instance)\n",
    "\n",
    "z_feature_map.decompose().draw(output='mpl', scale=2)"
   ]
  },
  {
   "cell_type": "code",
   "execution_count": null,
   "id": "ranging-leadership",
   "metadata": {},
   "outputs": [],
   "source": [
    "from qiskit.circuit.library import ZFeatureMap\n",
    "from qiskit_machine_learning.kernels import QuantumKernel\n",
    "\n",
    "# here feature_dimension = 3 and reps = 4\n",
    "\n",
    "adhoc_dimension = 3\n",
    "z_feature_map = ZFeatureMap(feature_dimension=adhoc_dimension, reps=4)\n",
    "z_kernel = QuantumKernel(feature_map = z_feature_map, quantum_instance=quantum_instance)\n",
    "\n",
    "z_feature_map.decompose().draw(output='mpl', scale=2)"
   ]
  },
  {
   "cell_type": "markdown",
   "id": "applied-direction",
   "metadata": {},
   "source": [
    "# See the Difference for ZZFeatureMap"
   ]
  },
  {
   "cell_type": "code",
   "execution_count": null,
   "id": "guilty-qatar",
   "metadata": {},
   "outputs": [],
   "source": [
    "# same happens for ZZFeatureMap\n",
    "\n",
    "from qiskit.circuit.library import ZZFeatureMap\n",
    "\n",
    "adhoc_dimension=2\n",
    "zz_feature_map = ZZFeatureMap(feature_dimension=adhoc_dimension, reps=1, entanglement='linear')\n",
    "zz_kernel = QuantumKernel(feature_map = zz_feature_map, quantum_instance=quantum_instance)\n",
    "\n",
    "zz_feature_map.decompose().draw(output='mpl', scale=2)"
   ]
  },
  {
   "cell_type": "code",
   "execution_count": null,
   "id": "parental-closing",
   "metadata": {},
   "outputs": [],
   "source": [
    "# same happens for ZZFeatureMap\n",
    "\n",
    "from qiskit.circuit.library import ZZFeatureMap\n",
    "\n",
    "adhoc_dimension=2\n",
    "zz_feature_map = ZZFeatureMap(feature_dimension=adhoc_dimension, reps=2, entanglement='linear')\n",
    "zz_kernel = QuantumKernel(feature_map = zz_feature_map, quantum_instance=quantum_instance)\n",
    "\n",
    "zz_feature_map.decompose().draw(output='mpl', scale=2)"
   ]
  },
  {
   "cell_type": "code",
   "execution_count": null,
   "id": "surprising-italy",
   "metadata": {},
   "outputs": [],
   "source": [
    "# same happens for ZZFeatureMap\n",
    "\n",
    "from qiskit.circuit.library import ZZFeatureMap\n",
    "\n",
    "adhoc_dimension=3\n",
    "zz_feature_map = ZZFeatureMap(feature_dimension=adhoc_dimension, reps=1, entanglement='linear')\n",
    "zz_kernel = QuantumKernel(feature_map = zz_feature_map, quantum_instance=quantum_instance)\n",
    "\n",
    "zz_feature_map.decompose().draw(output='mpl', scale=2)"
   ]
  },
  {
   "cell_type": "code",
   "execution_count": null,
   "id": "proprietary-chase",
   "metadata": {},
   "outputs": [],
   "source": [
    "# same happens for ZZFeatureMap\n",
    "\n",
    "from qiskit.circuit.library import ZZFeatureMap\n",
    "\n",
    "adhoc_dimension=3\n",
    "zz_feature_map = ZZFeatureMap(feature_dimension=adhoc_dimension, reps=2, entanglement='linear')\n",
    "zz_kernel = QuantumKernel(feature_map = zz_feature_map, quantum_instance=quantum_instance)\n",
    "\n",
    "zz_feature_map.decompose().draw(output='mpl', scale=2)"
   ]
  },
  {
   "cell_type": "code",
   "execution_count": null,
   "id": "active-amino",
   "metadata": {},
   "outputs": [],
   "source": []
  }
 ],
 "metadata": {
  "kernelspec": {
   "display_name": "Python 3",
   "language": "python",
   "name": "python3"
  },
  "language_info": {
   "codemirror_mode": {
    "name": "ipython",
    "version": 3
   },
   "file_extension": ".py",
   "mimetype": "text/x-python",
   "name": "python",
   "nbconvert_exporter": "python",
   "pygments_lexer": "ipython3",
   "version": "3.8.8"
  }
 },
 "nbformat": 4,
 "nbformat_minor": 5
}
